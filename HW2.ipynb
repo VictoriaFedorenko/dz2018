{
 "cells": [
  {
   "cell_type": "markdown",
   "metadata": {},
   "source": [
    "# ДЗ2 Оцениваемое"
   ]
  },
  {
   "cell_type": "markdown",
   "metadata": {
    "scrolled": true
   },
   "source": [
    "## Задание 1"
   ]
  },
  {
   "cell_type": "markdown",
   "metadata": {
    "scrolled": true
   },
   "source": [
    "Дан текст. Необходимо выделить все биграммы в этом тексте и сохранить их список в какую-либо переменную."
   ]
  },
  {
   "cell_type": "code",
   "execution_count": null,
   "metadata": {},
   "outputs": [],
   "source": [
    "a = input() #получаем текст\n",
    "b = a.split( ) #делим на элементы по пробелу\n",
    "bigr = [] #сюда складываем биграммы\n",
    "x = len(b) \n",
    "for i in range (x - 1): #ограничиваю так, потому что биграммы будут составляться по элементам с индексами i и i+1\n",
    "    c = b[i] + ' ' + b[i + 1] #это моя биграмма; слова таким образом можно разделить любым символом, например, поставить между ними запятую, но в примере они были разделены пробелом, поэтому я так и сделала\n",
    "    print(c) \n",
    "    bigr.append(c) #это я ее складываю в bigr"
   ]
  },
  {
   "cell_type": "markdown",
   "metadata": {
    "scrolled": true
   },
   "source": [
    "## Задание 2"
   ]
  },
  {
   "cell_type": "markdown",
   "metadata": {
    "scrolled": true
   },
   "source": [
    "Распечатать текущую директорию и список всех файлов и папок в ней. Посчитать и распечатать количество файлов."
   ]
  },
  {
   "cell_type": "code",
   "execution_count": 1,
   "metadata": {},
   "outputs": [],
   "source": [
    "import os"
   ]
  },
  {
   "cell_type": "code",
   "execution_count": 2,
   "metadata": {},
   "outputs": [
    {
     "name": "stdout",
     "output_type": "stream",
     "text": [
      "E:\\ucheba\\python-dh-hw\n"
     ]
    }
   ],
   "source": [
    "print(os.getcwd()) #проверяю текущую директорию"
   ]
  },
  {
   "cell_type": "code",
   "execution_count": 3,
   "metadata": {},
   "outputs": [
    {
     "name": "stdout",
     "output_type": "stream",
     "text": [
      "E:\\ucheba\\python-dh-hw\\poems\n",
      "poems.txt\n",
      "боль.txt\n",
      "ворон.txt\n",
      "деды.txt\n",
      "кладь.txt\n",
      "котики\n",
      "ночь.txt\n",
      "сказки\n",
      "шредингер.txt\n",
      "7 files\n"
     ]
    }
   ],
   "source": [
    "os.chdir('E:\\\\ucheba\\\\python-dh-hw\\\\poems') #меняю директорию на папку poems, в которой лежат файлы, с которыми я буду работать\n",
    "print(os.getcwd()) \n",
    "count = 0 #переменная, которая нужна, чтобы посчитать количество файлов в папке\n",
    "for i in os.listdir('.'):\n",
    "    print(i)\n",
    "    if i.endswith('.txt'): #использую строковую ф-цию endswith, с помощью которой нахожу элементы, заканчивающиеся на \".txt\"\n",
    "        count += 1\n",
    "print(count, 'files')"
   ]
  },
  {
   "cell_type": "markdown",
   "metadata": {
    "scrolled": true
   },
   "source": [
    "Пройтись циклом по рабочей директории, читая содержимое каждого файла и записывая его в новый файл poems.txt По завершении цикла должен получиться файл со всеми стихотворениями!"
   ]
  },
  {
   "cell_type": "code",
   "execution_count": 50,
   "metadata": {},
   "outputs": [],
   "source": [
    "os.chdir('E:\\\\ucheba\\\\python-dh-hw\\\\poems') #еще раз меняю директорию на папку с нужными файлами\n",
    "with open('poems.txt', 'a+', encoding='utf-8') as d: #создаю файл, в который буду собирать данные из других файлов папки\n",
    "    for root, dirs, files in os.walk('.'): #с помощью ф-ции os.walk запускаю цикл, чтобы собрать данные из всех файлов в один\n",
    "        for file in files:\n",
    "            with open(file, 'r', encoding='utf-8') as f: \n",
    "                poem = f.read() #читаю файл, данные с которого хочу перенести в poems.txt\n",
    "                d.write(poem + '\\n') #переношу данные\n",
    "        break"
   ]
  },
  {
   "cell_type": "markdown",
   "metadata": {
    "scrolled": true
   },
   "source": [
    "## Задание 3"
   ]
  },
  {
   "cell_type": "markdown",
   "metadata": {
    "scrolled": true
   },
   "source": [
    "Скопировать текст, сохранить его в переменную. Узнать длину текста в символах."
   ]
  },
  {
   "cell_type": "code",
   "execution_count": 82,
   "metadata": {},
   "outputs": [
    {
     "name": "stdout",
     "output_type": "stream",
     "text": [
      "Несчастная кошка порезала лапу- \n",
      "Сидит, и ни шагу не может ступить.\n",
      "Скорей, чтобы вылечить кошкину лапу\n",
      "Воздушные шарики надо купить!\n",
      "\n",
      "И сразу столпился народ на дороге-\n",
      "Шумит, и кричит, и на кошку глядит.\n",
      "А кошка отчасти идет по дороге,\n",
      "Отчасти по воздуху плавно летит!\n",
      "270\n"
     ]
    }
   ],
   "source": [
    "a = 'Несчастная кошка порезала лапу- \\nСидит, и ни шагу не может ступить.\\nСкорей, чтобы вылечить кошкину лапу\\nВоздушные шарики надо купить!\\n\\nИ сразу столпился народ на дороге-\\nШумит, и кричит, и на кошку глядит.\\nА кошка отчасти идет по дороге,\\nОтчасти по воздуху плавно летит!'\n",
    "print(a)\n",
    "print(len(a))"
   ]
  },
  {
   "cell_type": "markdown",
   "metadata": {
    "scrolled": true
   },
   "source": [
    "Очистить текст от пунктуации, используя list compehensions. На выходе должен получиться список слов."
   ]
  },
  {
   "cell_type": "code",
   "execution_count": 56,
   "metadata": {},
   "outputs": [
    {
     "name": "stdout",
     "output_type": "stream",
     "text": [
      "['Несчастная', 'кошка', 'порезала', 'лапу', 'Сидит', 'и', 'ни', 'шагу', 'не', 'может', 'ступить', 'Скорей', 'чтобы', 'вылечить', 'кошкину', 'лапу', 'Воздушные', 'шарики', 'надо', 'купить', 'И', 'сразу', 'столпился', 'народ', 'на', 'дороге', 'Шумит', 'и', 'кричит', 'и', 'на', 'кошку', 'глядит', 'А', 'кошка', 'отчасти', 'идет', 'по', 'дороге', 'Отчасти', 'по', 'воздуху', 'плавно', 'летит']\n"
     ]
    }
   ],
   "source": [
    "w = []\n",
    "for word in a.split(): #делю строку по пробелам на элементы\n",
    "    w.append(word.strip(\"!?.,-\")) #убираю знаки препинания и вношу элементы в список\n",
    "print(w)"
   ]
  },
  {
   "cell_type": "markdown",
   "metadata": {
    "scrolled": true
   },
   "source": [
    "Объединить слова из получившегося списка в строку через пробел."
   ]
  },
  {
   "cell_type": "code",
   "execution_count": 59,
   "metadata": {},
   "outputs": [],
   "source": [
    "string = ' '.join(w)   "
   ]
  },
  {
   "cell_type": "code",
   "execution_count": 60,
   "metadata": {},
   "outputs": [
    {
     "name": "stdout",
     "output_type": "stream",
     "text": [
      "Несчастная кошка порезала лапу Сидит и ни шагу не может ступить Скорей чтобы вылечить кошкину лапу Воздушные шарики надо купить И сразу столпился народ на дороге Шумит и кричит и на кошку глядит А кошка отчасти идет по дороге Отчасти по воздуху плавно летит\n"
     ]
    }
   ],
   "source": [
    "print(string)"
   ]
  },
  {
   "cell_type": "markdown",
   "metadata": {
    "scrolled": true
   },
   "source": [
    "С помощью list comprehensions проверить, написано ли слово с большой буквы, и если да, то привести его к нижнему регистру. На выходе должен получиться список из всех слов стихотворения, написанных с маленькой буквы (не только те, которые изначально были с маленькой буквы, а все)."
   ]
  },
  {
   "cell_type": "code",
   "execution_count": 86,
   "metadata": {},
   "outputs": [
    {
     "name": "stdout",
     "output_type": "stream",
     "text": [
      "несчастная кошка порезала лапу сидит и ни шагу не может ступить скорей чтобы вылечить кошкину лапу воздушные шарики надо купить и сразу столпился народ на дороге шумит и кричит и на кошку глядит а кошка отчасти идет по дороге отчасти по воздуху плавно летит\n"
     ]
    }
   ],
   "source": [
    "strlower = string.lower() #делаю так, чтобы все слова строки были в нижнем регистре\n",
    "print(strlower)"
   ]
  },
  {
   "cell_type": "code",
   "execution_count": 62,
   "metadata": {},
   "outputs": [
    {
     "name": "stdout",
     "output_type": "stream",
     "text": [
      "44\n"
     ]
    }
   ],
   "source": [
    "print(len(string.split( ))) #нахожу количество слов, то есть элементов, разделенных пробелами"
   ]
  },
  {
   "cell_type": "code",
   "execution_count": 64,
   "metadata": {},
   "outputs": [
    {
     "name": "stdout",
     "output_type": "stream",
     "text": [
      "27\n"
     ]
    }
   ],
   "source": [
    "print(len(set(strlower))) #нахожу количество уникальных слов"
   ]
  }
 ],
 "metadata": {
  "kernelspec": {
   "display_name": "Python 3",
   "language": "python",
   "name": "python3"
  },
  "language_info": {
   "codemirror_mode": {
    "name": "ipython",
    "version": 3
   },
   "file_extension": ".py",
   "mimetype": "text/x-python",
   "name": "python",
   "nbconvert_exporter": "python",
   "pygments_lexer": "ipython3",
   "version": "3.7.0"
  }
 },
 "nbformat": 4,
 "nbformat_minor": 2
}
